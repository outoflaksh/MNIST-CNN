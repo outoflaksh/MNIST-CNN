{
  "nbformat": 4,
  "nbformat_minor": 0,
  "metadata": {
    "colab": {
      "name": "EL_updated.ipynb",
      "provenance": [],
      "collapsed_sections": [],
      "toc_visible": true,
      "authorship_tag": "ABX9TyOhs8yrbhIO8myGW0fHhL5j",
      "include_colab_link": true
    },
    "kernelspec": {
      "name": "python3",
      "display_name": "Python 3"
    },
    "language_info": {
      "name": "python"
    },
    "accelerator": "GPU"
  },
  "cells": [
    {
      "cell_type": "markdown",
      "metadata": {
        "id": "view-in-github",
        "colab_type": "text"
      },
      "source": [
        "<a href=\"https://colab.research.google.com/github/outoflaksh/MNIST-CNN/blob/main/EL_updated.ipynb\" target=\"_parent\"><img src=\"https://colab.research.google.com/assets/colab-badge.svg\" alt=\"Open In Colab\"/></a>"
      ]
    },
    {
      "cell_type": "markdown",
      "metadata": {
        "id": "jb8KL_e7Ieyf"
      },
      "source": [
        "## Importing all the req. libraries"
      ]
    },
    {
      "cell_type": "code",
      "metadata": {
        "id": "clgmrJDZkr4a"
      },
      "source": [
        "import numpy as np # linear algebra\n",
        "import pandas as pd # data processing, CSV file I/O\n",
        "import tensorflow as tf\n",
        "from tensorflow import keras\n",
        "import matplotlib.pyplot as plt\n"
      ],
      "execution_count": null,
      "outputs": []
    },
    {
      "cell_type": "markdown",
      "metadata": {
        "id": "nj6SPqLFInJB"
      },
      "source": [
        "## DATA LOADING AND PRE PROCESSING\n",
        "### Train:Test = 80:20"
      ]
    },
    {
      "cell_type": "code",
      "metadata": {
        "id": "MtjQxxfqlOME"
      },
      "source": [
        "digits_data = keras.datasets.mnist.load_data()\n",
        "\n",
        "(X_train_og, y_train_og), (X_test_og, y_test_og) = digits_data\n",
        "\n",
        "X_train = X_train_og.astype(\"float32\")[:56000]/255\n",
        "#X_test = np.concatenate(X_test_og.astype(\"float32\"), X_train_og.astype(\"float32\")[56000:])/255\n",
        "X_test = X_test_og.astype(\"float32\")/255\n",
        "\n",
        "extra_train_data = X_train_og.astype(\"float32\")[56000:]/255\n",
        "X_test = np.concatenate((X_test, extra_train_data))\n",
        "\n",
        "X_train = np.expand_dims(X_train, -1)\n",
        "X_test = np.expand_dims(X_test, -1)\n",
        "\n",
        "y_train = keras.utils.to_categorical(y_train_og[:56000], 10)\n",
        "y_test = keras.utils.to_categorical(np.concatenate((y_test_og, y_train_og[56000:])), 10)\n"
      ],
      "execution_count": null,
      "outputs": []
    },
    {
      "cell_type": "markdown",
      "metadata": {
        "id": "Ms7sUcbEItRi"
      },
      "source": [
        "## DEFINING NEURAL NETWORK ARCHITECTURE"
      ]
    },
    {
      "cell_type": "code",
      "metadata": {
        "colab": {
          "base_uri": "https://localhost:8080/"
        },
        "id": "nbi13gbtlZmS",
        "outputId": "007aa46f-a19c-4a83-e5d6-a3a4539b53c6"
      },
      "source": [
        "model = keras.Sequential([\n",
        "    keras.layers.Conv2D(64, 7, activation = 'relu', padding = 'same', input_shape = [28,28,1]),\n",
        "    keras.layers.MaxPooling2D(2),\n",
        "    keras.layers.Conv2D(128, 3, activation = 'relu', padding = 'same'),\n",
        "    keras.layers.Conv2D(128, 3, activation = 'relu', padding = 'same'),\n",
        "    keras.layers.MaxPooling2D(2),\n",
        "    keras.layers.Conv2D(256, 3, activation = 'relu', padding = 'same'),\n",
        "    keras.layers.Conv2D(256, 3, activation = 'relu', padding = 'same'),\n",
        "    keras.layers.MaxPooling2D(2),\n",
        "    keras.layers.Flatten(),\n",
        "    keras.layers.Dense(64, activation = 'relu'),\n",
        "    keras.layers.Dropout(0.5),\n",
        "    keras.layers.Dense(32, activation = 'relu'),\n",
        "    keras.layers.Dropout(0.5),\n",
        "    keras.layers.Dense(10, activation = 'softmax')\n",
        "])\n",
        "model.compile(loss = 'categorical_crossentropy', optimizer = 'adam', metrics = ['accuracy'])\n",
        "print(\"Model Done!\")"
      ],
      "execution_count": null,
      "outputs": [
        {
          "output_type": "stream",
          "text": [
            "Model Done!\n"
          ],
          "name": "stdout"
        }
      ]
    },
    {
      "cell_type": "markdown",
      "metadata": {
        "id": "gaJTqXEEI13L"
      },
      "source": [
        "## TRAINING WITH 15 EPOCHS AND A VALIDATION SPLIT OF 20%"
      ]
    },
    {
      "cell_type": "code",
      "metadata": {
        "colab": {
          "base_uri": "https://localhost:8080/"
        },
        "id": "OUzDvmZ-v5BB",
        "outputId": "01b17b2a-c4e1-4e6c-e27b-173191ee1116"
      },
      "source": [
        "history = model.fit(X_train, y_train, epochs = 15, batch_size = 128, validation_split = 0.2)"
      ],
      "execution_count": null,
      "outputs": [
        {
          "output_type": "stream",
          "text": [
            "Epoch 1/15\n",
            "394/394 [==============================] - 15s 36ms/step - loss: 1.4894 - accuracy: 0.4477 - val_loss: 0.1262 - val_accuracy: 0.9762\n",
            "Epoch 2/15\n",
            "394/394 [==============================] - 14s 36ms/step - loss: 0.4866 - accuracy: 0.8326 - val_loss: 0.0704 - val_accuracy: 0.9850\n",
            "Epoch 3/15\n",
            "394/394 [==============================] - 14s 35ms/step - loss: 0.3555 - accuracy: 0.8781 - val_loss: 0.0726 - val_accuracy: 0.9855\n",
            "Epoch 4/15\n",
            "394/394 [==============================] - 14s 35ms/step - loss: 0.3025 - accuracy: 0.8975 - val_loss: 0.0552 - val_accuracy: 0.9884\n",
            "Epoch 5/15\n",
            "394/394 [==============================] - 14s 35ms/step - loss: 0.2659 - accuracy: 0.9088 - val_loss: 0.0696 - val_accuracy: 0.9845\n",
            "Epoch 6/15\n",
            "394/394 [==============================] - 14s 35ms/step - loss: 0.2439 - accuracy: 0.9135 - val_loss: 0.0429 - val_accuracy: 0.9907\n",
            "Epoch 7/15\n",
            "394/394 [==============================] - 14s 35ms/step - loss: 0.2317 - accuracy: 0.9169 - val_loss: 0.0521 - val_accuracy: 0.9904\n",
            "Epoch 8/15\n",
            "394/394 [==============================] - 14s 35ms/step - loss: 0.2199 - accuracy: 0.9214 - val_loss: 0.0656 - val_accuracy: 0.9870\n",
            "Epoch 9/15\n",
            "394/394 [==============================] - 14s 35ms/step - loss: 0.1955 - accuracy: 0.9317 - val_loss: 0.0644 - val_accuracy: 0.9904\n",
            "Epoch 10/15\n",
            "394/394 [==============================] - 14s 35ms/step - loss: 0.1933 - accuracy: 0.9355 - val_loss: 0.0557 - val_accuracy: 0.9902\n",
            "Epoch 11/15\n",
            "394/394 [==============================] - 14s 35ms/step - loss: 0.1785 - accuracy: 0.9374 - val_loss: 0.0719 - val_accuracy: 0.9816\n",
            "Epoch 12/15\n",
            "394/394 [==============================] - 14s 35ms/step - loss: 0.1719 - accuracy: 0.9403 - val_loss: 0.0665 - val_accuracy: 0.9857\n",
            "Epoch 13/15\n",
            "394/394 [==============================] - 14s 35ms/step - loss: 0.1587 - accuracy: 0.9433 - val_loss: 0.0938 - val_accuracy: 0.9902\n",
            "Epoch 14/15\n",
            "394/394 [==============================] - 14s 35ms/step - loss: 0.1520 - accuracy: 0.9434 - val_loss: 0.0720 - val_accuracy: 0.9911\n",
            "Epoch 15/15\n",
            "394/394 [==============================] - 14s 35ms/step - loss: 0.1434 - accuracy: 0.9488 - val_loss: 0.0634 - val_accuracy: 0.9920\n"
          ],
          "name": "stdout"
        }
      ]
    },
    {
      "cell_type": "markdown",
      "metadata": {
        "id": "hRNMVNDXJBGW"
      },
      "source": [
        "## SAVING THE MODEL FOR USE IN THE ACTUAL PROG"
      ]
    },
    {
      "cell_type": "code",
      "metadata": {
        "id": "N9eyxt-XyJXI"
      },
      "source": [
        "model.save(\"model1.h5\")"
      ],
      "execution_count": null,
      "outputs": []
    },
    {
      "cell_type": "markdown",
      "metadata": {
        "id": "PoKPo3fqJHQB"
      },
      "source": [
        "## CALCULATING THE ACCURACY SO OBTAINED"
      ]
    },
    {
      "cell_type": "code",
      "metadata": {
        "colab": {
          "base_uri": "https://localhost:8080/"
        },
        "id": "GPRXAeI_3hSf",
        "outputId": "d7fb38ce-8233-4acf-fe58-0a1afad444b2"
      },
      "source": [
        "#m1 = keras.models.load_model(\"model1.h5\")\n",
        "acc = model.evaluate(X_test, y_test, verbose = 0)[1]*100\n",
        "acc"
      ],
      "execution_count": null,
      "outputs": [
        {
          "output_type": "execute_result",
          "data": {
            "text/plain": [
              "99.33571219444275"
            ]
          },
          "metadata": {
            "tags": []
          },
          "execution_count": 21
        }
      ]
    },
    {
      "cell_type": "markdown",
      "metadata": {
        "id": "1wJSrUTFJNoh"
      },
      "source": [
        "### RECIEVED ACCURACY ON TEST DATASET (20% OF OG):\n",
        "### **99.335%**"
      ]
    },
    {
      "cell_type": "markdown",
      "metadata": {
        "id": "k9qO5ys4JfGE"
      },
      "source": [
        "## TESTING OUT THE PERFORMANCE ON A RANDOM TEST IMAGE SAMPLE"
      ]
    },
    {
      "cell_type": "code",
      "metadata": {
        "colab": {
          "base_uri": "https://localhost:8080/",
          "height": 366
        },
        "id": "IhMnEGt29Ehr",
        "outputId": "0866076f-94d9-424f-837c-6fbfd0722c54"
      },
      "source": [
        "print(\"PREDICTION MADE BY THE MODEL: \")\n",
        "print(np.argmax(model.predict([X_test[6].reshape(-1, 28, 28, 1)])))\n",
        "print(\"\\n\\n\")\n",
        "print(\"ACTUAL IMAGE: \")\n",
        "plt.imshow(X_test[6].reshape(28,28) ,cmap = plt.get_cmap(\"gray\"))\n",
        "plt.show()\n"
      ],
      "execution_count": null,
      "outputs": [
        {
          "output_type": "stream",
          "text": [
            "PREDICTION MADE BY THE MODEL: \n",
            "4\n",
            "\n",
            "\n",
            "\n",
            "ACTUAL IMAGE: \n"
          ],
          "name": "stdout"
        },
        {
          "output_type": "display_data",
          "data": {
            "image/png": "[encoded data removed]",
            "text/plain": [
              "<Figure size 432x288 with 1 Axes>"
            ]
          },
          "metadata": {
            "tags": [],
            "needs_background": "light"
          }
        }
      ]
    }
  ]
}